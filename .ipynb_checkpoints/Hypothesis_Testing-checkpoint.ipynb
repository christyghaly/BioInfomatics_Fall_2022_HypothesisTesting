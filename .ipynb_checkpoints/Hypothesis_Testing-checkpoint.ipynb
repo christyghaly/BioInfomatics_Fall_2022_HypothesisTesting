{
 "cells": [
  {
   "cell_type": "markdown",
   "metadata": {},
   "source": [
    "# Section Hypothesis testing"
   ]
  },
  {
   "cell_type": "markdown",
   "metadata": {},
   "source": [
    "### DNA Microarray\n",
    "DNA Microarrays (DNA chips) are used to measure the expression levels of large number of genes simultaneously."
   ]
  },
  {
   "cell_type": "markdown",
   "metadata": {},
   "source": [
    "##### Gene expression: \n",
    "represents the activity of a gene in the cell\n",
    "##### how to get gene expression ?\n",
    "* Cellular functions are mainly determined by the synthesized proteins and measuring protein activity (expression levels) is the best to describe gene expression.\n"
   ]
  },
  {
   "cell_type": "markdown",
   "metadata": {},
   "source": [
    "#### What can we do with Microarray data?\n",
    "* Inferring deferentially expressed genes (DEGs):Genes whose activity change under different conditions, as in the\n",
    "case of a diseased tissue.    \n",
    "\n",
    "##### Inferring deferentially expressed genes (DEGs)\n",
    "<img src=\"DEGS.PNG\" />\n",
    "\n",
    "### Most of these analyses require formulating statistical hypotheses and testing them to augment your result/conclusion with statistical confidence.\n"
   ]
  },
  {
   "cell_type": "markdown",
   "metadata": {},
   "source": [
    "\n",
    "# Data Structure of the DNA microarray output on one sample\n",
    "<img src=\"1D-microarray.PNG\" />"
   ]
  },
  {
   "cell_type": "markdown",
   "metadata": {},
   "source": [
    "# Data Structure of the DNA microarray output of more than one sample\n",
    "<img src=\"2D-microarray.PNG\" />"
   ]
  },
  {
   "cell_type": "markdown",
   "metadata": {},
   "source": [
    "# Example for expression level for Uterus Healthy samples\n",
    "<img src=\"HealtyUterusData.PNG\" />"
   ]
  },
  {
   "cell_type": "markdown",
   "metadata": {},
   "source": [
    "# Example for the expression level for Uterus Diseased samples\n",
    "<img src=\"DiseasedUterusData.PNG\" />"
   ]
  },
  {
   "cell_type": "markdown",
   "metadata": {},
   "source": [
    "### Skewness of a graph:\n",
    "<img src=\"skewness.jpg\" /> "
   ]
  },
  {
   "cell_type": "markdown",
   "metadata": {},
   "source": [
    "\n",
    "## Hypothesis Testing\n",
    "A hypothesis is an educated guess about something in the world around you. It should be testable, either by experiment or observation. \n",
    "Hypothesis examples:\n",
    "* Is Wnt Pathway implicated in colorectal cancer?\n",
    "* Is the AMACR gene correlated with the PTEN gene in tissues of prostate cancer?\n",
    "* Is TP53 the cause of breast cancer?\n",
    "\n",
    "\n",
    "<img src=\"Hypothesis_Testing_image.PNG\" />"
   ]
  },
  {
   "cell_type": "markdown",
   "metadata": {},
   "source": [
    "Parametric statistics are based on assumptions about the distribution of population from which the sample was taken. Nonparametric statistics are not based on assumptions, that is, the data can be collected from a sample that does not follow a specific distribution.\n",
    "Here in this course we are dealing with Parametric statistics"
   ]
  },
  {
   "cell_type": "markdown",
   "metadata": {},
   "source": [
    "##### Parameteric Tests:May be (1,2 or more samples)\n",
    "* 1 sample test (we are comparing the sample with the mean of the population)(T-test or Z-test),T-test is used when the population variance is unknown while Z-test when population variance is known.\n",
    "<img src=\"One-Sample_T-test.png\"/>\n",
    "* 2 sample test(paired,unpaired)(we are comparing the diseased sample with the healthy \"normal\" sample), Paired data in statistics, often referred to as ordered pairs, refers to two variables in the individuals of a population that are linked together (If every conditioned sample has a corresponding normal sample, then data are called paired).\n",
    "* more than 2 sample test\n",
    "    "
   ]
  },
  {
   "cell_type": "markdown",
   "metadata": {},
   "source": [
    "## Independent (unpaired) samples\n",
    "### Calculate the T-test for the means of TWO INDEPENDENT samples of scores.\n",
    "The null hypothesis that 2 independent samples have identical average (expected) values. "
   ]
  },
  {
   "cell_type": "code",
   "execution_count": 1,
   "metadata": {},
   "outputs": [
    {
     "name": "stdout",
     "output_type": "stream",
     "text": [
      "stat=-0.326, p=0.748\n",
      "Probably the same distribution, fail to reject null hypothesis\n"
     ]
    }
   ],
   "source": [
    "from scipy import stats\n",
    "data1 = [0.873, 2.817, 0.121, -0.945, -0.055, -1.436, 0.360, -1.478, -1.637, -1.869]\n",
    "data2 = [1.142, -0.432, -0.938, -0.729, -0.846, -0.157, 0.500, 1.183, -1.075,-0.169]\n",
    "t_stat, p = stats.ttest_ind(data1, data2) # This function assumes that the populations have identical variances by default\n",
    "print('stat=%.3f, p=%.3f' % (t_stat, p))\n",
    "if p > 0.05:\n",
    "    print('Probably the same distribution, fail to reject null hypothesis')\n",
    "else:\n",
    "    print('Probably different distributions, Reject Null Hypothesis')"
   ]
  },
  {
   "cell_type": "markdown",
   "metadata": {},
   "source": [
    "## Paired two samples\n",
    "### Calculate the t-test on TWO RELATED samples of scores, a and b.\n",
    "The null hypothesis is that 2 related(paired) samples have identical average (expected) values."
   ]
  },
  {
   "cell_type": "code",
   "execution_count": 2,
   "metadata": {},
   "outputs": [
    {
     "name": "stdout",
     "output_type": "stream",
     "text": [
      "stat=-0.334, p=0.746\n",
      "Probably the same distribution\n"
     ]
    }
   ],
   "source": [
    "data1 = [0.873, 2.817, 0.121, -0.945, -0.055, -1.436, 0.360, -1.478, -1.637, -1.869]\n",
    "data2 = [1.142, -0.432, -0.938, -0.729, -0.846, -0.157, 0.500, 1.183, -1.075,-0.169]\n",
    "stat, p = stats.ttest_rel(data1, data2)\n",
    "print('stat=%.3f, p=%.3f' % (stat, p))\n",
    "if p > 0.05:\n",
    "    print('Probably the same distribution')\n",
    "else:\n",
    "    print('Probably different distributions')"
   ]
  },
  {
   "cell_type": "code",
   "execution_count": null,
   "metadata": {},
   "outputs": [],
   "source": []
  },
  {
   "cell_type": "code",
   "execution_count": null,
   "metadata": {},
   "outputs": [],
   "source": []
  },
  {
   "cell_type": "code",
   "execution_count": null,
   "metadata": {},
   "outputs": [],
   "source": []
  }
 ],
 "metadata": {
  "kernelspec": {
   "display_name": "Python 3",
   "language": "python",
   "name": "python3"
  },
  "language_info": {
   "codemirror_mode": {
    "name": "ipython",
    "version": 3
   },
   "file_extension": ".py",
   "mimetype": "text/x-python",
   "name": "python",
   "nbconvert_exporter": "python",
   "pygments_lexer": "ipython3",
   "version": "3.8.5"
  }
 },
 "nbformat": 4,
 "nbformat_minor": 4
}
